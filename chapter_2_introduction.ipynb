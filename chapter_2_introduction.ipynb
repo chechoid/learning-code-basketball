{
 "cells": [
  {
   "cell_type": "raw",
   "metadata": {},
   "source": [
    "---\n",
    "title: 'Chapter 2: Introduction to Python Programming'\n",
    "author: Nathan Braun | Exercises by Sergio García Mora\n",
    "format:\n",
    "  html:\n",
    "    code-fold: true\n",
    "    code-tools: true\n",
    "    toc: true\n",
    "    toc-location: left\n",
    "editor: visual\n",
    "---"
   ]
  },
  {
   "cell_type": "markdown",
   "metadata": {},
   "source": [
    "# Theory & Exercises from Chapter 2\n",
    "\n",
    "## Variables"
   ]
  },
  {
   "cell_type": "code",
   "execution_count": 1,
   "metadata": {},
   "outputs": [],
   "source": [
    "three_pt_made = 4"
   ]
  },
  {
   "cell_type": "markdown",
   "metadata": {},
   "source": [
    "Now we can use the variable"
   ]
  },
  {
   "cell_type": "code",
   "execution_count": 2,
   "metadata": {},
   "outputs": [
    {
     "data": {
      "text/plain": [
       "12"
      ]
     },
     "execution_count": 59,
     "metadata": {},
     "output_type": "execute_result"
    }
   ],
   "source": [
    "# Print the value\n",
    "three_pt_made\n",
    "\n",
    "# Use it in a calculation\n",
    "3 * three_pt_made"
   ]
  },
  {
   "cell_type": "markdown",
   "metadata": {},
   "source": [
    "## Overwriting a variable"
   ]
  },
  {
   "cell_type": "code",
   "execution_count": 3,
   "metadata": {},
   "outputs": [
    {
     "name": "stdout",
     "output_type": "stream",
     "text": [
      "5\n"
     ]
    }
   ],
   "source": [
    "three_pt_made = three_pt_made + 1\n",
    "\n",
    "print(three_pt_made)"
   ]
  },
  {
   "cell_type": "markdown",
   "metadata": {},
   "source": [
    "# Types of variables\n",
    "\n",
    "## Numeric\n",
    "\n",
    "Numeric variables"
   ]
  },
  {
   "cell_type": "code",
   "execution_count": 4,
   "metadata": {},
   "outputs": [],
   "source": [
    "over_under = 216      # int\n",
    "fg_percentage = 0.48  # float"
   ]
  },
  {
   "cell_type": "markdown",
   "metadata": {},
   "source": [
    "## Strings\n",
    "\n",
    "*Strings* can use `'` or `\"`."
   ]
  },
  {
   "cell_type": "code",
   "execution_count": 5,
   "metadata": {},
   "outputs": [],
   "source": [
    "starting_c = 'Karl-Anthony Towns'\n",
    "starting_p = \"D'Angelo Russel\""
   ]
  },
  {
   "cell_type": "markdown",
   "metadata": {},
   "source": [
    "Check the type of variable"
   ]
  },
  {
   "cell_type": "code",
   "execution_count": 6,
   "metadata": {},
   "outputs": [
    {
     "data": {
      "text/plain": [
       "str"
      ]
     },
     "execution_count": 63,
     "metadata": {},
     "output_type": "execute_result"
    }
   ],
   "source": [
    "type(fg_percentage)\n",
    "\n",
    "type(starting_p)"
   ]
  },
  {
   "cell_type": "markdown",
   "metadata": {},
   "source": [
    "Insert variables inside strings using **f-strings**."
   ]
  },
  {
   "cell_type": "code",
   "execution_count": 7,
   "metadata": {},
   "outputs": [
    {
     "name": "stdout",
     "output_type": "stream",
     "text": [
      "Karl-Anthony Towns, D'Angelo Russel, etc\n"
     ]
    }
   ],
   "source": [
    "starters = f'{starting_c}, {starting_p}, etc'\n",
    "\n",
    "print(starters)"
   ]
  },
  {
   "cell_type": "markdown",
   "metadata": {},
   "source": [
    "String methods"
   ]
  },
  {
   "cell_type": "code",
   "execution_count": 8,
   "metadata": {},
   "outputs": [
    {
     "data": {
      "text/plain": [
       "'KARL-ANTHONY TOWNS'"
      ]
     },
     "execution_count": 65,
     "metadata": {},
     "output_type": "execute_result"
    }
   ],
   "source": [
    "# Use . to modify a string\n",
    "starting_c.upper()  "
   ]
  },
  {
   "cell_type": "markdown",
   "metadata": {},
   "source": [
    "Replace a value"
   ]
  },
  {
   "cell_type": "code",
   "execution_count": 9,
   "metadata": {},
   "outputs": [
    {
     "data": {
      "text/plain": [
       "'Ron World Peace'"
      ]
     },
     "execution_count": 66,
     "metadata": {},
     "output_type": "execute_result"
    }
   ],
   "source": [
    "'Ron Artest'.replace(\"Artest\", \"World Peace\")"
   ]
  },
  {
   "cell_type": "code",
   "execution_count": 10,
   "metadata": {},
   "outputs": [
    {
     "data": {
      "text/plain": [
       "'Lebron james'"
      ]
     },
     "execution_count": 67,
     "metadata": {},
     "output_type": "execute_result"
    }
   ],
   "source": [
    "'lebron james'.capitalize()"
   ]
  },
  {
   "cell_type": "code",
   "execution_count": 11,
   "metadata": {},
   "outputs": [
    {
     "data": {
      "text/plain": [
       "'lebron james'"
      ]
     },
     "execution_count": 68,
     "metadata": {},
     "output_type": "execute_result"
    }
   ],
   "source": [
    "'    lebron james'.lstrip()"
   ]
  },
  {
   "cell_type": "markdown",
   "metadata": {},
   "source": [
    "## Booleans"
   ]
  },
  {
   "cell_type": "code",
   "execution_count": 12,
   "metadata": {},
   "outputs": [
    {
     "data": {
      "text/plain": [
       "bool"
      ]
     },
     "execution_count": 69,
     "metadata": {},
     "output_type": "execute_result"
    }
   ],
   "source": [
    "team1_points = 110\n",
    "team2_points = 120\n",
    "\n",
    "# These are all bools\n",
    "team1_won = team1_points > team2_points\n",
    "\n",
    "team2_won = team1_points < team2_points\n",
    "\n",
    "teams_tied = team1_points == team2_points\n",
    "\n",
    "teams_did_not_tie = team1_points != team2_points\n",
    "\n",
    "type(team1_won)"
   ]
  },
  {
   "cell_type": "markdown",
   "metadata": {},
   "source": [
    "See results"
   ]
  },
  {
   "cell_type": "code",
   "execution_count": 13,
   "metadata": {},
   "outputs": [
    {
     "name": "stdout",
     "output_type": "stream",
     "text": [
      "False\n",
      "True\n",
      "False\n",
      "True\n"
     ]
    }
   ],
   "source": [
    "print(team1_won)\n",
    "print(team2_won)\n",
    "print(teams_tied)\n",
    "print(teams_did_not_tie)"
   ]
  },
  {
   "cell_type": "markdown",
   "metadata": {},
   "source": [
    "Manipulate bools with `and`, `or`, `not` and parenthesis"
   ]
  },
  {
   "cell_type": "code",
   "execution_count": 14,
   "metadata": {},
   "outputs": [
    {
     "name": "stdout",
     "output_type": "stream",
     "text": [
      "False\n",
      "False\n",
      "False\n",
      "True\n"
     ]
    }
   ],
   "source": [
    "shootout = (team1_points > 130) and (team2_points > 130)\n",
    "\n",
    "\n",
    "at_least_one_good_team = (team1_points > 120) or (team2_points > 120)\n",
    "\n",
    "you_guys_are_bad = not ((team1_points > 100) or (team2_points > 100))\n",
    "\n",
    "meh = not(shootout or\n",
    "      at_least_one_good_team or\n",
    "      you_guys_are_bad)\n",
    "      \n",
    "print(shootout)\n",
    "print(at_least_one_good_team)\n",
    "print(you_guys_are_bad)\n",
    "print(meh)"
   ]
  },
  {
   "cell_type": "markdown",
   "metadata": {},
   "source": [
    "# `if` Statements"
   ]
  },
  {
   "cell_type": "code",
   "execution_count": 15,
   "metadata": {},
   "outputs": [
    {
     "name": "stdout",
     "output_type": "stream",
     "text": [
      "Nice job Team 2!\n"
     ]
    }
   ],
   "source": [
    "if team1_won:\n",
    "  message = \"Nice job Team 1!\"\n",
    "\n",
    "elif team2_won:\n",
    "  message = \"Nice job Team 2!\"\n",
    "\n",
    "else:\n",
    "  message = \"How a game end up tied?\"\n",
    "  \n",
    "print(message)"
   ]
  },
  {
   "cell_type": "markdown",
   "metadata": {},
   "source": [
    "# Lists\n",
    "\n",
    "Lists are built using square brackets `[]`:"
   ]
  },
  {
   "cell_type": "code",
   "execution_count": 16,
   "metadata": {},
   "outputs": [],
   "source": [
    "roster_list = ['kevin durant', 'kyrie irving', 'james harden']"
   ]
  },
  {
   "cell_type": "markdown",
   "metadata": {},
   "source": [
    "Accessing elements of the list"
   ]
  },
  {
   "cell_type": "code",
   "execution_count": 17,
   "metadata": {},
   "outputs": [
    {
     "data": {
      "text/plain": [
       "'kevin durant'"
      ]
     },
     "execution_count": 74,
     "metadata": {},
     "output_type": "execute_result"
    }
   ],
   "source": [
    "# Pulling the first element of the list\n",
    "roster_list[0]"
   ]
  },
  {
   "cell_type": "code",
   "execution_count": 18,
   "metadata": {},
   "outputs": [
    {
     "data": {
      "text/plain": [
       "['kevin durant', 'kyrie irving']"
      ]
     },
     "execution_count": 75,
     "metadata": {},
     "output_type": "execute_result"
    }
   ],
   "source": [
    "roster_list[0:2]"
   ]
  },
  {
   "cell_type": "markdown",
   "metadata": {},
   "source": [
    "Get the last two elements"
   ]
  },
  {
   "cell_type": "code",
   "execution_count": 19,
   "metadata": {},
   "outputs": [
    {
     "data": {
      "text/plain": [
       "['kyrie irving', 'james harden']"
      ]
     },
     "execution_count": 76,
     "metadata": {},
     "output_type": "execute_result"
    }
   ],
   "source": [
    "roster_list[-2:]"
   ]
  },
  {
   "cell_type": "markdown",
   "metadata": {},
   "source": [
    "# Dictionary\n",
    "\n",
    "Dictionaries in Python have `keys` and `values`:"
   ]
  },
  {
   "cell_type": "code",
   "execution_count": 20,
   "metadata": {},
   "outputs": [
    {
     "name": "stdout",
     "output_type": "stream",
     "text": [
      "{'PF': 'kevin durant', 'PG': 'kyrie irving', 'SG': 'james harden'}\n"
     ]
    }
   ],
   "source": [
    "roster_dict = {'PF': 'kevin durant',\n",
    "               'PG': 'kyrie irving',\n",
    "               'SG': 'james harden'}\n",
    "               \n",
    "print(roster_dict)"
   ]
  },
  {
   "cell_type": "markdown",
   "metadata": {},
   "source": [
    "Access an element in the dictionary:"
   ]
  },
  {
   "cell_type": "code",
   "execution_count": 21,
   "metadata": {},
   "outputs": [
    {
     "data": {
      "text/plain": [
       "'kevin durant'"
      ]
     },
     "execution_count": 78,
     "metadata": {},
     "output_type": "execute_result"
    }
   ],
   "source": [
    "roster_dict['PF']"
   ]
  },
  {
   "cell_type": "markdown",
   "metadata": {},
   "source": [
    "Adding a new element to the dictionary"
   ]
  },
  {
   "cell_type": "code",
   "execution_count": 22,
   "metadata": {},
   "outputs": [
    {
     "data": {
      "text/plain": [
       "{'PF': 'kevin durant',\n",
       " 'PG': 'kyrie irving',\n",
       " 'SG': 'james harden',\n",
       " 'C': 'deandre jordan'}"
      ]
     },
     "execution_count": 79,
     "metadata": {},
     "output_type": "execute_result"
    }
   ],
   "source": [
    "roster_dict['C'] = 'deandre jordan'\n",
    "\n",
    "roster_dict"
   ]
  },
  {
   "cell_type": "markdown",
   "metadata": {},
   "source": [
    "## Unpacking\n",
    "\n",
    "You can assign multiple variables at once:"
   ]
  },
  {
   "cell_type": "code",
   "execution_count": 23,
   "metadata": {},
   "outputs": [],
   "source": [
    "pg, sg = ['kyrie irving', 'james harden']"
   ]
  },
  {
   "cell_type": "markdown",
   "metadata": {},
   "source": [
    "The previous chunk is equivalent to do this:"
   ]
  },
  {
   "cell_type": "code",
   "execution_count": 24,
   "metadata": {},
   "outputs": [],
   "source": [
    "pg = 'kyrie irving'\n",
    "\n",
    "sg = 'james harden'"
   ]
  },
  {
   "cell_type": "markdown",
   "metadata": {},
   "source": [
    "# Loops\n",
    "\n",
    "Loops are a way \"to do something\" for every item in a collection\n",
    "\n",
    "Let's properly capitalize the player's names using the `title` function:"
   ]
  },
  {
   "cell_type": "code",
   "execution_count": 25,
   "metadata": {},
   "outputs": [
    {
     "name": "stdout",
     "output_type": "stream",
     "text": [
      "['Kevind Durant', 'Kyrie Irving', 'James Harden']\n"
     ]
    }
   ],
   "source": [
    "# Create the list of players\n",
    "roster_list = ['kevind durant', 'kyrie irving', 'james harden']\n",
    "\n",
    "roster_list_upper = ['', '', '']   # List to store results\n",
    "i = 0       # Start position to iterate\n",
    "for player in roster_list:\n",
    "  roster_list_upper[i] = player.title()\n",
    "  i = i + 1\n",
    "  \n",
    "# See output\n",
    "print(roster_list_upper)"
   ]
  },
  {
   "cell_type": "markdown",
   "metadata": {},
   "source": [
    "Iterating through a dictionary."
   ]
  },
  {
   "cell_type": "code",
   "execution_count": 26,
   "metadata": {},
   "outputs": [
    {
     "name": "stdout",
     "output_type": "stream",
     "text": [
      "position: PF\n",
      "position: PG\n",
      "position: SG\n",
      "position: C\n"
     ]
    }
   ],
   "source": [
    "for x in roster_dict:\n",
    "  print(f\"position: {x}\")"
   ]
  },
  {
   "cell_type": "markdown",
   "metadata": {},
   "source": [
    "And if we want the values too:"
   ]
  },
  {
   "cell_type": "code",
   "execution_count": 27,
   "metadata": {},
   "outputs": [
    {
     "name": "stdout",
     "output_type": "stream",
     "text": [
      "position: PF\n",
      "player: kevin durant\n",
      "position: PG\n",
      "player: kyrie irving\n",
      "position: SG\n",
      "player: james harden\n",
      "position: C\n",
      "player: deandre jordan\n",
      "position: PF\n",
      "player: Kevin Durant\n",
      "position: PG\n",
      "player: Kyrie Irving\n",
      "position: SG\n",
      "player: James Harden\n",
      "position: C\n",
      "player: Deandre Jordan\n"
     ]
    }
   ],
   "source": [
    "for x in roster_dict:\n",
    "  print(f\"position: {x}\")\n",
    "  print(f\"player: {roster_dict[x]}\")\n",
    "  \n",
    "# Same Example but with capitalized names and last names\n",
    "for x in roster_dict:\n",
    "  print(f\"position: {x}\")\n",
    "  print(f\"player: {roster_dict[x].title()}\")"
   ]
  },
  {
   "cell_type": "markdown",
   "metadata": {},
   "source": [
    "We can use the function `.items()` to a dictionary to get access to the value:"
   ]
  },
  {
   "cell_type": "code",
   "execution_count": 28,
   "metadata": {},
   "outputs": [
    {
     "name": "stdout",
     "output_type": "stream",
     "text": [
      "position: PF\n",
      "player: kevin durant\n",
      "position: PG\n",
      "player: kyrie irving\n",
      "position: SG\n",
      "player: james harden\n",
      "position: C\n",
      "player: deandre jordan\n"
     ]
    }
   ],
   "source": [
    "for x, y in roster_dict.items():\n",
    "  print(f\"position: {x}\")\n",
    "  print(f\"player: {y}\")"
   ]
  },
  {
   "cell_type": "markdown",
   "metadata": {},
   "source": [
    "# Comprehensions\n",
    "\n",
    "Comprehensions are a way to iterate through lists and dictionaries in a simpler way."
   ]
  },
  {
   "cell_type": "code",
   "execution_count": 29,
   "metadata": {},
   "outputs": [
    {
     "data": {
      "text/plain": [
       "['kevind durant', 'kyrie irving', 'james harden']"
      ]
     },
     "execution_count": 86,
     "metadata": {},
     "output_type": "execute_result"
    }
   ],
   "source": [
    "# See original list\n",
    "roster_list"
   ]
  },
  {
   "cell_type": "markdown",
   "metadata": {},
   "source": [
    "And then we changed to a capitalized version in each name by doing a for loop:"
   ]
  },
  {
   "cell_type": "code",
   "execution_count": 30,
   "metadata": {},
   "outputs": [
    {
     "name": "stdout",
     "output_type": "stream",
     "text": [
      "['Kevind Durant', 'Kyrie Irving', 'James Harden']\n"
     ]
    }
   ],
   "source": [
    "roster_list_proper = [x.title() for x in roster_list]\n",
    "\n",
    "# See the output\n",
    "print(roster_list_proper)"
   ]
  },
  {
   "cell_type": "markdown",
   "metadata": {},
   "source": [
    "All list comprehension take the form `[a for b in c]`. In the above example:\n",
    "\n",
    "-   a is `x.title()`\n",
    "-   b is `x`\n",
    "-   c is `roster_list`\n",
    "\n",
    "A more complicated example"
   ]
  },
  {
   "cell_type": "code",
   "execution_count": 31,
   "metadata": {},
   "outputs": [
    {
     "name": "stdout",
     "output_type": "stream",
     "text": [
      "['durant', 'irving', 'harden']"
     ]
    },
    {
     "name": "stdout",
     "output_type": "stream",
     "text": [
      "\n"
     ]
    }
   ],
   "source": [
    "# Obtain the last name of each player\n",
    "roster_last_names = [full_name.split(' ')[1]\n",
    "                      for full_name in roster_list]\n",
    "                      \n",
    "# See the output\n",
    "print(roster_last_names)"
   ]
  },
  {
   "cell_type": "markdown",
   "metadata": {},
   "source": [
    "Let's explore what *a* does in the previous example"
   ]
  },
  {
   "cell_type": "code",
   "execution_count": 32,
   "metadata": {},
   "outputs": [
    {
     "data": {
      "text/plain": [
       "'durant'"
      ]
     },
     "execution_count": 89,
     "metadata": {},
     "output_type": "execute_result"
    }
   ],
   "source": [
    "full_name = \"kevin durant\"    # Example\n",
    "\n",
    "full_name.split(\" \")          # Separates into 2 elements by blank space\n",
    "\n",
    "full_name.split(\" \")[1]       # Takes the second element (index = 1)"
   ]
  },
  {
   "cell_type": "markdown",
   "metadata": {},
   "source": [
    "We can use this approach to filter a collection of certain items only:"
   ]
  },
  {
   "cell_type": "code",
   "execution_count": 33,
   "metadata": {},
   "outputs": [
    {
     "name": "stdout",
     "output_type": "stream",
     "text": [
      "['kevind durant', 'kyrie irving']\n"
     ]
    }
   ],
   "source": [
    "roster_k_only = [x for x in roster_list if x.startswith(\"k\")]\n",
    "\n",
    "# See the output\n",
    "print(roster_k_only)"
   ]
  },
  {
   "cell_type": "markdown",
   "metadata": {},
   "source": [
    "Checking the filter"
   ]
  },
  {
   "cell_type": "code",
   "execution_count": 34,
   "metadata": {},
   "outputs": [
    {
     "data": {
      "text/plain": [
       "True"
      ]
     },
     "execution_count": 91,
     "metadata": {},
     "output_type": "execute_result"
    }
   ],
   "source": [
    "'kevin durant'.startswith('k')\n",
    "\n",
    "'james harden'.startswith('k')\n",
    "\n",
    "'kyrie irvin'.startswith('k')"
   ]
  },
  {
   "cell_type": "markdown",
   "metadata": {},
   "source": [
    "We can extend this to map and filter in the same comprehension"
   ]
  },
  {
   "cell_type": "code",
   "execution_count": 35,
   "metadata": {},
   "outputs": [
    {
     "name": "stdout",
     "output_type": "stream",
     "text": [
      "['Kevind Durant', 'Kyrie Irving']\n"
     ]
    }
   ],
   "source": [
    "roster_k_only_title = [x.title() for x in roster_list if x.startswith('k')]\n",
    "\n",
    "# See the output\n",
    "print(roster_k_only_title)"
   ]
  },
  {
   "cell_type": "markdown",
   "metadata": {},
   "source": [
    "## Dictionary comprehensions"
   ]
  },
  {
   "cell_type": "code",
   "execution_count": 36,
   "metadata": {},
   "outputs": [
    {
     "name": "stdout",
     "output_type": "stream",
     "text": [
      "{'KEVIN DURANT': 39.05895, 'KYRIE IRVING': 33.46035, 'JAMES HARDEN': 41.25492}\n"
     ]
    }
   ],
   "source": [
    "salary_per_player = {'kevin durant': 39058950,\n",
    "                     'kyrie irving': 33460350,\n",
    "                     'james harden': 41254920}\n",
    "                     \n",
    "salary_m_per_upper_player = {\n",
    "  name.upper(): salary/1000000 for name, salary in salary_per_player.items()\n",
    "}\n",
    "\n",
    "print(salary_m_per_upper_player)"
   ]
  },
  {
   "cell_type": "markdown",
   "metadata": {},
   "source": [
    "We can go from a list to a dictionary and viceversa"
   ]
  },
  {
   "cell_type": "code",
   "execution_count": 37,
   "metadata": {},
   "outputs": [
    {
     "data": {
      "text/plain": [
       "6"
      ]
     },
     "execution_count": 94,
     "metadata": {},
     "output_type": "execute_result"
    }
   ],
   "source": [
    "sum([1, 2, 3])"
   ]
  },
  {
   "cell_type": "markdown",
   "metadata": {},
   "source": [
    "If we want to get the total salary_per_player we can make a list of just the salaries using a list comprehension, then pass it to `sum` like:"
   ]
  },
  {
   "cell_type": "code",
   "execution_count": 38,
   "metadata": {},
   "outputs": [
    {
     "data": {
      "text/plain": [
       "113774220"
      ]
     },
     "execution_count": 95,
     "metadata": {},
     "output_type": "execute_result"
    }
   ],
   "source": [
    "sum([salary for _, salary in salary_per_player.items()])"
   ]
  },
  {
   "cell_type": "markdown",
   "metadata": {},
   "source": [
    "Since we don't need the names (key) for summing the salaries, it's a convention to use `_` as a variable name, letting people reading our code know we're not using it.\n",
    "\n",
    "# Functions"
   ]
  },
  {
   "cell_type": "code",
   "execution_count": 39,
   "metadata": {},
   "outputs": [
    {
     "data": {
      "text/plain": [
       "3"
      ]
     },
     "execution_count": 96,
     "metadata": {},
     "output_type": "execute_result"
    }
   ],
   "source": [
    "len([\"kevin durant\", \"kyrie irving\", \"james harden\"])"
   ]
  },
  {
   "cell_type": "markdown",
   "metadata": {},
   "source": [
    "We can define variables using functions:"
   ]
  },
  {
   "cell_type": "code",
   "execution_count": 40,
   "metadata": {},
   "outputs": [
    {
     "name": "stdout",
     "output_type": "stream",
     "text": [
      "3\n"
     ]
    }
   ],
   "source": [
    "pts_per_3 = len([\"kevin durant\", \"kyrie irving\", \"james harden\"])\n",
    "\n",
    "print(pts_per_3)"
   ]
  },
  {
   "cell_type": "markdown",
   "metadata": {},
   "source": [
    "And then using it for calculations"
   ]
  },
  {
   "cell_type": "code",
   "execution_count": 41,
   "metadata": {},
   "outputs": [
    {
     "data": {
      "text/plain": [
       "7"
      ]
     },
     "execution_count": 98,
     "metadata": {},
     "output_type": "execute_result"
    }
   ],
   "source": [
    "4 + pts_per_3"
   ]
  },
  {
   "cell_type": "markdown",
   "metadata": {},
   "source": [
    "## Defining your own functions"
   ]
  },
  {
   "cell_type": "code",
   "execution_count": 42,
   "metadata": {},
   "outputs": [],
   "source": [
    "def pts(fg2, fg3, ft):   # 2point, 3point, free throws\n",
    "  \"\"\"\n",
    "  you can use 3 \"\" to insert docstring, an explanation of \n",
    "  what the function does\n",
    "  \"\"\"\n",
    "  return fg2*2 + fg3*3 + ft*1"
   ]
  },
  {
   "cell_type": "markdown",
   "metadata": {},
   "source": [
    "Test the function"
   ]
  },
  {
   "cell_type": "code",
   "execution_count": 43,
   "metadata": {},
   "outputs": [
    {
     "data": {
      "text/plain": [
       "33"
      ]
     },
     "execution_count": 100,
     "metadata": {},
     "output_type": "execute_result"
    }
   ],
   "source": [
    "# Total points\n",
    "pts(8, 4, 5)"
   ]
  },
  {
   "cell_type": "markdown",
   "metadata": {},
   "source": [
    "## Default values in your function\n",
    "\n",
    "The following will show an error\n",
    "\n",
    "```{{python}}\n",
    "pts(8, 4)\n",
    "```\n",
    "\n",
    "The problem is that the function expects 3 arguments and we only passed 2. We can solve this problem adding default values. Optional values must come after required arguments."
   ]
  },
  {
   "cell_type": "code",
   "execution_count": 44,
   "metadata": {},
   "outputs": [],
   "source": [
    "def pts(fg2, fg3, ft = 0):\n",
    "  \"\"\"\n",
    "  this function takes the number of 2 point fgs, 3 point fgs, and free throws and returns total points scored\n",
    "  \"\"\"\n",
    "  return fg2*2 + fg3*3 + ft*1"
   ]
  },
  {
   "cell_type": "markdown",
   "metadata": {},
   "source": [
    "Test the function:"
   ]
  },
  {
   "cell_type": "code",
   "execution_count": 45,
   "metadata": {},
   "outputs": [
    {
     "data": {
      "text/plain": [
       "28"
      ]
     },
     "execution_count": 102,
     "metadata": {},
     "output_type": "execute_result"
    }
   ],
   "source": [
    "#| echo: fenced\n",
    "pts(8, 4)"
   ]
  },
  {
   "cell_type": "code",
   "execution_count": 46,
   "metadata": {},
   "outputs": [],
   "source": [
    "# Consult what arguments the function requires\n",
    "?pts"
   ]
  },
  {
   "cell_type": "markdown",
   "metadata": {},
   "source": [
    "## Functions that take other functions"
   ]
  },
  {
   "cell_type": "code",
   "execution_count": 47,
   "metadata": {},
   "outputs": [],
   "source": [
    "def do_to_list(working_list, working_fn, desc):\n",
    "  \"\"\"\n",
    "  this function takes a list, a function that works on a list, and a description\n",
    "  it applies the function to the list, then returns the result along with description as a string\n",
    "  \"\"\"\n",
    "  value = working_fn(working_list)\n",
    "  return f'{desc} {value}'"
   ]
  },
  {
   "cell_type": "markdown",
   "metadata": {},
   "source": [
    "Make a function to use this on"
   ]
  },
  {
   "cell_type": "code",
   "execution_count": 48,
   "metadata": {},
   "outputs": [],
   "source": [
    "def last_elem_in_list(working_list):\n",
    "  \"\"\"\n",
    "  returns the last element of a list\n",
    "  \"\"\"\n",
    "  return working_list[-1]"
   ]
  },
  {
   "cell_type": "markdown",
   "metadata": {},
   "source": [
    "Try it out:"
   ]
  },
  {
   "cell_type": "code",
   "execution_count": 49,
   "metadata": {},
   "outputs": [
    {
     "data": {
      "text/plain": [
       "'last element of a list: PG'"
      ]
     },
     "execution_count": 106,
     "metadata": {},
     "output_type": "execute_result"
    }
   ],
   "source": [
    "positions = [\"C\", \"PF\", \"SF\", \"SG\", \"PG\"]\n",
    "\n",
    "do_to_list(positions, last_elem_in_list, \"last element of a list:\")"
   ]
  },
  {
   "cell_type": "markdown",
   "metadata": {},
   "source": [
    "Now the function can be used on built in functions too"
   ]
  },
  {
   "cell_type": "code",
   "execution_count": 50,
   "metadata": {},
   "outputs": [
    {
     "data": {
      "text/plain": [
       "'length of your list: 5'"
      ]
     },
     "execution_count": 107,
     "metadata": {},
     "output_type": "execute_result"
    }
   ],
   "source": [
    "do_to_list(positions, len, \"length of your list:\")"
   ]
  },
  {
   "cell_type": "markdown",
   "metadata": {},
   "source": [
    "\"Anonymous\" or \"lambda\" functions are functions created on the fly to pass to other functions"
   ]
  },
  {
   "cell_type": "code",
   "execution_count": 51,
   "metadata": {},
   "outputs": [
    {
     "data": {
      "text/plain": [
       "'first element of your list times 3 is: 6'"
      ]
     },
     "execution_count": 108,
     "metadata": {},
     "output_type": "execute_result"
    }
   ],
   "source": [
    "do_to_list([2, 3, 7, 1.3, 5], lambda x: 3*x[0], \"first element of your list times 3 is:\" )"
   ]
  },
  {
   "cell_type": "markdown",
   "metadata": {},
   "source": [
    "# End of chapter exercises\n",
    "\n",
    "### 2.1 Which of the followings are valid Python variable names?\n",
    "\n",
    "-   `_throwaway_data`\n",
    "\n",
    "-   `n_shots`\n",
    "\n",
    "-   `3_pt_percentage`\n",
    "\n",
    "-   `numOfBoards`\n",
    "\n",
    "-   `flagrant2`\n",
    "\n",
    "-   `coach name`\n",
    "\n",
    "-   `@home_or_away`\n",
    "\n",
    "-   `'ft_attempts'`\n",
    "\n",
    "```{python}}\n",
    "#| echo: fenced\n",
    "_throwaway_data = 2 # Valid\n",
    "\n",
    "n_shots = 15 # Valid\n",
    "\n",
    "3_pt_percentage = 0.36 # Invalid\n",
    "\n",
    "numOfBoards = 8 # Valid\n",
    "\n",
    "flagrant2 = 3 # Valid\n",
    "\n",
    "coach name = \"Mike\"  # Invalid\n",
    "\n",
    "@home_or_away = \"home\" # Invalid\n",
    "\n",
    "'ft_attempts' = 6 # Invalid\n",
    "\n",
    "```\n",
    "\n",
    "### 2.2 What is the value of `total_points` at the end of the following code?"
   ]
  },
  {
   "cell_type": "code",
   "execution_count": 52,
   "metadata": {},
   "outputs": [
    {
     "data": {
      "text/plain": [
       "True"
      ]
     },
     "execution_count": 109,
     "metadata": {},
     "output_type": "execute_result"
    }
   ],
   "source": [
    "total_points = 100\n",
    "total_points = total_points + 28\n",
    "total_points = total_points + 5\n",
    "\n",
    "total_points == 133"
   ]
  },
  {
   "cell_type": "markdown",
   "metadata": {},
   "source": [
    "The total value of `total_points` is `{python} total_points`\n",
    "\n",
    "### 2.3 Write a function named `commentary` that takes the name of a player and a play and returns a string of the form 'Lebron James with the dunk!'."
   ]
  },
  {
   "cell_type": "code",
   "execution_count": 53,
   "metadata": {},
   "outputs": [
    {
     "data": {
      "text/plain": [
       "'Puchero with the dunk!'"
      ]
     },
     "execution_count": 110,
     "metadata": {},
     "output_type": "execute_result"
    }
   ],
   "source": [
    "#| label: \"Function commentary\"\n",
    "\n",
    "def commentary(player, play):          # Name of the function and arguments\n",
    "  \"\"\"\n",
    "  Takes the name of the player and a play, and returns a sentence using both\n",
    "  \"\"\"\n",
    "  player = player.title()              # Capitalize name and last name\n",
    "  play = play.lower()                  # Lower case the play\n",
    "  return f'{player} with the {play}!'  # Return of the function\n",
    "\n",
    "# Test the function\n",
    "commentary(\"facu campazzo\", \"STEAL\")\n",
    "commentary(\"puchero\", \"dunk\")"
   ]
  },
  {
   "cell_type": "markdown",
   "metadata": {},
   "source": [
    "### 2.4 Without looking up, what do you think the string method `islower` does? What type of value does it return? Write some code to test your guess.\n",
    "\n",
    "The function returns `True` when letters are lower case"
   ]
  },
  {
   "cell_type": "code",
   "execution_count": 54,
   "metadata": {},
   "outputs": [
    {
     "data": {
      "text/plain": [
       "True"
      ]
     },
     "execution_count": 111,
     "metadata": {},
     "output_type": "execute_result"
    }
   ],
   "source": [
    "#| label: islower\n",
    "\n",
    "player = \"Puchero\"\n",
    "\n",
    "player.islower()\n",
    "\n",
    "player = \"nocioni\"\n",
    "\n",
    "player.islower()"
   ]
  },
  {
   "cell_type": "markdown",
   "metadata": {},
   "source": [
    "### 2.5 Write a function `is_fox` that takes in a player names and returns a boolean indicating the player's name is \"De'Aaron Fox\" regardless of case or whether the user included the `'`."
   ]
  },
  {
   "cell_type": "code",
   "execution_count": 55,
   "metadata": {},
   "outputs": [
    {
     "data": {
      "text/plain": [
       "\"OMG! It's D'Aaron Fox!\""
      ]
     },
     "execution_count": 112,
     "metadata": {},
     "output_type": "execute_result"
    }
   ],
   "source": [
    "#| label: is_fox\n",
    "\n",
    "def is_fox(player):\n",
    "    player = player.lower()\n",
    "  \n",
    "    if player == \"d'aaron fox\" or player == \"daaron fox\":\n",
    "        return \"OMG! It's D'Aaron Fox!\"\n",
    "  \n",
    "    else:\n",
    "        return \"Who is this guy?\"\n",
    "\n",
    "  \n",
    "# Test the function\n",
    "is_fox(\"Glass Ankles\")\n",
    "\n",
    "# Test the function\n",
    "is_fox(\"D'Aaron Fox\")"
   ]
  },
  {
   "cell_type": "markdown",
   "metadata": {},
   "source": [
    "### 2.6 Write a function `is_good_score` that takes in a number (e.g. 120 or 90) and returns a string `'120 is a good score` if the number >= 100 or `90's not that good` otherwise."
   ]
  },
  {
   "cell_type": "code",
   "execution_count": 56,
   "metadata": {},
   "outputs": [
    {
     "data": {
      "text/plain": [
       "\"99's not that good\""
      ]
     },
     "execution_count": 113,
     "metadata": {},
     "output_type": "execute_result"
    }
   ],
   "source": [
    "#| label: is_good_score_function\n",
    "\n",
    "# Define the function\n",
    "def is_good_score(x1):\n",
    "  if x1 >= 100:\n",
    "    return f'{x1} is a good score'\n",
    "  else:\n",
    "    return f\"{x1}'s not that good\"\n",
    "  \n",
    "# Test the function if true\n",
    "is_good_score(101)\n",
    "\n",
    "# Test the function if false\n",
    "is_good_score(99)"
   ]
  },
  {
   "cell_type": "markdown",
   "metadata": {},
   "source": [
    "### 2.7 Say we have a list\n",
    "`roster = ['kevin durant', 'kyrie irving', 'james harden']`\n",
    "\n",
    "List at least 3 ways you can to print the list without `'james harden'`. Use at least one list comprehension."
   ]
  },
  {
   "cell_type": "code",
   "execution_count": 57,
   "metadata": {},
   "outputs": [
    {
     "name": "stdout",
     "output_type": "stream",
     "text": [
      "['kevin durant', 'kyrie irving']\n",
      "kevin durant\n",
      "kyrie irving\n"
     ]
    }
   ],
   "source": [
    "roster = ['kevin durant', 'kyrie irving', 'james harden']\n",
    "\n",
    "# Method 1\n",
    "print(roster[0:2])\n",
    "\n",
    "# Method 2\n",
    "[x for x in roster if x.startswith(\"k\")]\n",
    "\n",
    "[x for x in roster if x != 'james harden']\n",
    "\n",
    "# Method 3\n",
    "for player in roster:\n",
    "    if player != 'james harden':\n",
    "      print(player)"
   ]
  }
 ],
 "metadata": {
  "kernelspec": {
   "display_name": "Python 3 (ipykernel)",
   "language": "python",
   "name": "python3"
  }
 },
 "nbformat": 4,
 "nbformat_minor": 4
}
