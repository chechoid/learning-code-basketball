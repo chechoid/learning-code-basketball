{
  "cells": [
    {
      "cell_type": "raw",
      "metadata": {},
      "source": [
        "---\n",
        "title: 'Chapter 2: Introduction to Python Programming'\n",
        "author: Nathan Braun | Exercises by Sergio García Mora\n",
        "format:\n",
        "  html:\n",
        "    code-fold: true\n",
        "    toc: true\n",
        "    toc-location: left\n",
        "editor: visual\n",
        "---"
      ]
    },
    {
      "cell_type": "markdown",
      "metadata": {},
      "source": [
        "# Exercises from Chapter 2\n",
        "\n",
        "## Variables"
      ]
    },
    {
      "cell_type": "code",
      "metadata": {},
      "source": [
        "three_pt_made = 4"
      ],
      "execution_count": null,
      "outputs": []
    },
    {
      "cell_type": "markdown",
      "metadata": {},
      "source": [
        "Now we can use the variable "
      ]
    },
    {
      "cell_type": "code",
      "metadata": {},
      "source": [
        "# Print the value\n",
        "three_pt_made\n",
        "\n",
        "# Use it in a calculation\n",
        "3 * three_pt_made"
      ],
      "execution_count": null,
      "outputs": []
    },
    {
      "cell_type": "markdown",
      "metadata": {},
      "source": [
        "## Overwriting a variable"
      ]
    },
    {
      "cell_type": "code",
      "metadata": {},
      "source": [
        "three_pt_made = three_pt_made + 1\n",
        "\n",
        "print(three_pt_made)"
      ],
      "execution_count": null,
      "outputs": []
    },
    {
      "cell_type": "markdown",
      "metadata": {},
      "source": [
        "# Types of variables\n",
        "\n",
        "## Numeric\n",
        "\n",
        "Numeric variables"
      ]
    },
    {
      "cell_type": "code",
      "metadata": {},
      "source": [
        "over_under = 216      # int\n",
        "fg_percentage = 0.48  # float"
      ],
      "execution_count": null,
      "outputs": []
    },
    {
      "cell_type": "markdown",
      "metadata": {},
      "source": [
        "## Strings\n",
        "\n",
        "*Strings* can use `'` or `\"`."
      ]
    },
    {
      "cell_type": "code",
      "metadata": {},
      "source": [
        "starting_c = 'Karl-Anthony Towns'\n",
        "starting_p = \"D'Angelo Russel\""
      ],
      "execution_count": null,
      "outputs": []
    },
    {
      "cell_type": "markdown",
      "metadata": {},
      "source": [
        "Check the type of variable"
      ]
    },
    {
      "cell_type": "code",
      "metadata": {},
      "source": [
        "type(fg_percentage)\n",
        "\n",
        "type(starting_p)"
      ],
      "execution_count": null,
      "outputs": []
    },
    {
      "cell_type": "markdown",
      "metadata": {},
      "source": [
        "Insert variables inside strings using **f-strings**."
      ]
    },
    {
      "cell_type": "code",
      "metadata": {},
      "source": [
        "starters = f'{starting_c}, {starting_p}, etc'\n",
        "\n",
        "print(starters)"
      ],
      "execution_count": null,
      "outputs": []
    },
    {
      "cell_type": "markdown",
      "metadata": {},
      "source": [
        "String methods"
      ]
    },
    {
      "cell_type": "code",
      "metadata": {},
      "source": [
        "# Use . to modify a string\n",
        "starting_c.upper()  "
      ],
      "execution_count": null,
      "outputs": []
    },
    {
      "cell_type": "markdown",
      "metadata": {},
      "source": [
        "Replace a value "
      ]
    },
    {
      "cell_type": "code",
      "metadata": {},
      "source": [
        "'Ron Artest'.replace(\"Artest\", \"World Peace\")"
      ],
      "execution_count": null,
      "outputs": []
    },
    {
      "cell_type": "code",
      "metadata": {},
      "source": [
        "'lebron james'.capitalize()"
      ],
      "execution_count": null,
      "outputs": []
    },
    {
      "cell_type": "code",
      "metadata": {},
      "source": [
        "'    lebron james'.lstrip()"
      ],
      "execution_count": null,
      "outputs": []
    },
    {
      "cell_type": "markdown",
      "metadata": {},
      "source": [
        "## Booleans"
      ]
    },
    {
      "cell_type": "code",
      "metadata": {},
      "source": [
        "team1_points = 110\n",
        "team2_points = 120\n",
        "\n",
        "# These are all bools\n",
        "team1_won = team1_points > team2_points\n",
        "\n",
        "team2_won = team1_points < team2_points\n",
        "\n",
        "teams_tied = team1_points == team2_points\n",
        "\n",
        "teams_did_not_tie = team1_points != team2_points\n",
        "\n",
        "type(team1_won)"
      ],
      "execution_count": null,
      "outputs": []
    },
    {
      "cell_type": "markdown",
      "metadata": {},
      "source": [
        "See results"
      ]
    },
    {
      "cell_type": "code",
      "metadata": {},
      "source": [
        "print(team1_won)\n",
        "print(team2_won)\n",
        "print(teams_tied)\n",
        "print(teams_did_not_tie)"
      ],
      "execution_count": null,
      "outputs": []
    },
    {
      "cell_type": "markdown",
      "metadata": {},
      "source": [
        "Manipulate bools with `and`, `or`, `not` and parenthesis"
      ]
    },
    {
      "cell_type": "code",
      "metadata": {},
      "source": [
        "shootout = (team1_points > 130) and (team2_points > 130)\n",
        "\n",
        "\n",
        "at_least_one_good_team = (team1_points > 120) or (team2_points > 120)\n",
        "\n",
        "you_guys_are_bad = not ((team1_points > 100) or (team2_points > 100))\n",
        "\n",
        "meh = not(shootout or\n",
        "      at_least_one_good_team or\n",
        "      you_guys_are_bad)\n",
        "      \n",
        "print(shootout)\n",
        "print(at_least_one_good_team)\n",
        "print(you_guys_are_bad)\n",
        "print(meh)"
      ],
      "execution_count": null,
      "outputs": []
    },
    {
      "cell_type": "markdown",
      "metadata": {},
      "source": [
        "# `if` Statements"
      ]
    },
    {
      "cell_type": "code",
      "metadata": {},
      "source": [
        "if team1_won:\n",
        "  message = \"Nice job Team 1!\"\n",
        "\n",
        "elif team2_won:\n",
        "  message = \"Nice job Team 2!\"\n",
        "\n",
        "else:\n",
        "  message = \"How a game end up tied?\"\n",
        "  \n",
        "print(message)"
      ],
      "execution_count": null,
      "outputs": []
    },
    {
      "cell_type": "markdown",
      "metadata": {},
      "source": [
        "# Lists\n",
        "\n",
        "Lists are built using square brackets `[]`:"
      ]
    },
    {
      "cell_type": "code",
      "metadata": {},
      "source": [
        "roster_list = ['kevin durant', 'kyrie irving', 'james harden']"
      ],
      "execution_count": null,
      "outputs": []
    },
    {
      "cell_type": "markdown",
      "metadata": {},
      "source": [
        "Accessing elements of the list"
      ]
    },
    {
      "cell_type": "code",
      "metadata": {},
      "source": [
        "# Pulling the first element of the list\n",
        "roster_list[0]"
      ],
      "execution_count": null,
      "outputs": []
    },
    {
      "cell_type": "code",
      "metadata": {},
      "source": [
        "roster_list[0:2]"
      ],
      "execution_count": null,
      "outputs": []
    },
    {
      "cell_type": "markdown",
      "metadata": {},
      "source": [
        "Get the last two elements"
      ]
    },
    {
      "cell_type": "code",
      "metadata": {},
      "source": [
        "roster_list[-2:]"
      ],
      "execution_count": null,
      "outputs": []
    },
    {
      "cell_type": "markdown",
      "metadata": {},
      "source": [
        "# Dictionary\n",
        "\n",
        "Dictionaries in Python have `keys` and `values`:"
      ]
    },
    {
      "cell_type": "code",
      "metadata": {},
      "source": [
        "roster_dict = {'PF': 'kevin durant',\n",
        "               'PG': 'kyrie irving',\n",
        "               'SG': 'james harden'}\n",
        "               \n",
        "print(roster_dict)"
      ],
      "execution_count": null,
      "outputs": []
    },
    {
      "cell_type": "markdown",
      "metadata": {},
      "source": [
        "Access an element in the dictionary:"
      ]
    },
    {
      "cell_type": "code",
      "metadata": {},
      "source": [
        "roster_dict['PF']"
      ],
      "execution_count": null,
      "outputs": []
    },
    {
      "cell_type": "markdown",
      "metadata": {},
      "source": [
        "Adding a new element to the dictionary"
      ]
    },
    {
      "cell_type": "code",
      "metadata": {},
      "source": [
        "roster_dict['C'] = 'deandre jordan'\n",
        "\n",
        "roster_dict"
      ],
      "execution_count": null,
      "outputs": []
    },
    {
      "cell_type": "markdown",
      "metadata": {},
      "source": [
        "## Unpacking\n",
        "\n",
        "You can assign multiple variables at once:"
      ]
    },
    {
      "cell_type": "code",
      "metadata": {},
      "source": [
        "pg, sg = ['kyrie irving', 'james harden']"
      ],
      "execution_count": null,
      "outputs": []
    },
    {
      "cell_type": "markdown",
      "metadata": {},
      "source": [
        "The previous chunk is equivalent to do this:"
      ]
    },
    {
      "cell_type": "code",
      "metadata": {},
      "source": [
        "pg = 'kyrie irving'\n",
        "\n",
        "sg = 'james harden'"
      ],
      "execution_count": null,
      "outputs": []
    },
    {
      "cell_type": "markdown",
      "metadata": {},
      "source": [
        "# Loops\n",
        "\n",
        "Loops are a way \"to do something\" for every item in a collection\n",
        "\n",
        "Let's properly capitalize the player's names using the `title` function:"
      ]
    },
    {
      "cell_type": "code",
      "metadata": {},
      "source": [
        "# Create the list of players\n",
        "roster_list = ['kevind durant', 'kyrie irving', 'james harden']\n",
        "\n",
        "roster_list_upper = ['', '', '']   # List to store results\n",
        "i = 0       # Start position to iterate\n",
        "for player in roster_list:\n",
        "  roster_list_upper[i] = player.title()\n",
        "  i = i + 1\n",
        "  \n",
        "# See output\n",
        "print(roster_list_upper)"
      ],
      "execution_count": null,
      "outputs": []
    }
  ],
  "metadata": {
    "kernelspec": {
      "name": "python3",
      "language": "python",
      "display_name": "Python 3 (ipykernel)"
    }
  },
  "nbformat": 4,
  "nbformat_minor": 4
}