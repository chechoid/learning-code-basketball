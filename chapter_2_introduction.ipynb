{
  "cells": [
    {
      "cell_type": "raw",
      "metadata": {},
      "source": [
        "---\n",
        "title: 'Chapter 2: Introduction to Python Programming'\n",
        "author: Nathan Braun | Exercises by Sergio García Mora\n",
        "format:\n",
        "  html:\n",
        "    code-fold: true\n",
        "    code-tools: true\n",
        "    toc: true\n",
        "    toc-location: left\n",
        "editor: visual\n",
        "---"
      ]
    },
    {
      "cell_type": "markdown",
      "metadata": {},
      "source": [
        "# Theory & Exercises from Chapter 2\n",
        "\n",
        "## Variables"
      ]
    },
    {
      "cell_type": "code",
      "metadata": {},
      "source": [
        "three_pt_made = 4"
      ],
      "execution_count": null,
      "outputs": []
    },
    {
      "cell_type": "markdown",
      "metadata": {},
      "source": [
        "Now we can use the variable"
      ]
    },
    {
      "cell_type": "code",
      "metadata": {},
      "source": [
        "# Print the value\n",
        "three_pt_made\n",
        "\n",
        "# Use it in a calculation\n",
        "3 * three_pt_made"
      ],
      "execution_count": null,
      "outputs": []
    },
    {
      "cell_type": "markdown",
      "metadata": {},
      "source": [
        "## Overwriting a variable"
      ]
    },
    {
      "cell_type": "code",
      "metadata": {},
      "source": [
        "three_pt_made = three_pt_made + 1\n",
        "\n",
        "print(three_pt_made)"
      ],
      "execution_count": null,
      "outputs": []
    },
    {
      "cell_type": "markdown",
      "metadata": {},
      "source": [
        "# Types of variables\n",
        "\n",
        "## Numeric\n",
        "\n",
        "Numeric variables"
      ]
    },
    {
      "cell_type": "code",
      "metadata": {},
      "source": [
        "over_under = 216      # int\n",
        "fg_percentage = 0.48  # float"
      ],
      "execution_count": null,
      "outputs": []
    },
    {
      "cell_type": "markdown",
      "metadata": {},
      "source": [
        "## Strings\n",
        "\n",
        "*Strings* can use `'` or `\"`."
      ]
    },
    {
      "cell_type": "code",
      "metadata": {},
      "source": [
        "starting_c = 'Karl-Anthony Towns'\n",
        "starting_p = \"D'Angelo Russel\""
      ],
      "execution_count": null,
      "outputs": []
    },
    {
      "cell_type": "markdown",
      "metadata": {},
      "source": [
        "Check the type of variable"
      ]
    },
    {
      "cell_type": "code",
      "metadata": {},
      "source": [
        "type(fg_percentage)\n",
        "\n",
        "type(starting_p)"
      ],
      "execution_count": null,
      "outputs": []
    },
    {
      "cell_type": "markdown",
      "metadata": {},
      "source": [
        "Insert variables inside strings using **f-strings**."
      ]
    },
    {
      "cell_type": "code",
      "metadata": {},
      "source": [
        "starters = f'{starting_c}, {starting_p}, etc'\n",
        "\n",
        "print(starters)"
      ],
      "execution_count": null,
      "outputs": []
    },
    {
      "cell_type": "markdown",
      "metadata": {},
      "source": [
        "String methods"
      ]
    },
    {
      "cell_type": "code",
      "metadata": {},
      "source": [
        "# Use . to modify a string\n",
        "starting_c.upper()  "
      ],
      "execution_count": null,
      "outputs": []
    },
    {
      "cell_type": "markdown",
      "metadata": {},
      "source": [
        "Replace a value"
      ]
    },
    {
      "cell_type": "code",
      "metadata": {},
      "source": [
        "'Ron Artest'.replace(\"Artest\", \"World Peace\")"
      ],
      "execution_count": null,
      "outputs": []
    },
    {
      "cell_type": "code",
      "metadata": {},
      "source": [
        "'lebron james'.capitalize()"
      ],
      "execution_count": null,
      "outputs": []
    },
    {
      "cell_type": "code",
      "metadata": {},
      "source": [
        "'    lebron james'.lstrip()"
      ],
      "execution_count": null,
      "outputs": []
    },
    {
      "cell_type": "markdown",
      "metadata": {},
      "source": [
        "## Booleans"
      ]
    },
    {
      "cell_type": "code",
      "metadata": {},
      "source": [
        "team1_points = 110\n",
        "team2_points = 120\n",
        "\n",
        "# These are all bools\n",
        "team1_won = team1_points > team2_points\n",
        "\n",
        "team2_won = team1_points < team2_points\n",
        "\n",
        "teams_tied = team1_points == team2_points\n",
        "\n",
        "teams_did_not_tie = team1_points != team2_points\n",
        "\n",
        "type(team1_won)"
      ],
      "execution_count": null,
      "outputs": []
    },
    {
      "cell_type": "markdown",
      "metadata": {},
      "source": [
        "See results"
      ]
    },
    {
      "cell_type": "code",
      "metadata": {},
      "source": [
        "print(team1_won)\n",
        "print(team2_won)\n",
        "print(teams_tied)\n",
        "print(teams_did_not_tie)"
      ],
      "execution_count": null,
      "outputs": []
    },
    {
      "cell_type": "markdown",
      "metadata": {},
      "source": [
        "Manipulate bools with `and`, `or`, `not` and parenthesis"
      ]
    },
    {
      "cell_type": "code",
      "metadata": {},
      "source": [
        "shootout = (team1_points > 130) and (team2_points > 130)\n",
        "\n",
        "\n",
        "at_least_one_good_team = (team1_points > 120) or (team2_points > 120)\n",
        "\n",
        "you_guys_are_bad = not ((team1_points > 100) or (team2_points > 100))\n",
        "\n",
        "meh = not(shootout or\n",
        "      at_least_one_good_team or\n",
        "      you_guys_are_bad)\n",
        "      \n",
        "print(shootout)\n",
        "print(at_least_one_good_team)\n",
        "print(you_guys_are_bad)\n",
        "print(meh)"
      ],
      "execution_count": null,
      "outputs": []
    },
    {
      "cell_type": "markdown",
      "metadata": {},
      "source": [
        "# `if` Statements"
      ]
    },
    {
      "cell_type": "code",
      "metadata": {},
      "source": [
        "if team1_won:\n",
        "  message = \"Nice job Team 1!\"\n",
        "\n",
        "elif team2_won:\n",
        "  message = \"Nice job Team 2!\"\n",
        "\n",
        "else:\n",
        "  message = \"How a game end up tied?\"\n",
        "  \n",
        "print(message)"
      ],
      "execution_count": null,
      "outputs": []
    },
    {
      "cell_type": "markdown",
      "metadata": {},
      "source": [
        "# Lists\n",
        "\n",
        "Lists are built using square brackets `[]`:"
      ]
    },
    {
      "cell_type": "code",
      "metadata": {},
      "source": [
        "roster_list = ['kevin durant', 'kyrie irving', 'james harden']"
      ],
      "execution_count": null,
      "outputs": []
    },
    {
      "cell_type": "markdown",
      "metadata": {},
      "source": [
        "Accessing elements of the list"
      ]
    },
    {
      "cell_type": "code",
      "metadata": {},
      "source": [
        "# Pulling the first element of the list\n",
        "roster_list[0]"
      ],
      "execution_count": null,
      "outputs": []
    },
    {
      "cell_type": "code",
      "metadata": {},
      "source": [
        "roster_list[0:2]"
      ],
      "execution_count": null,
      "outputs": []
    },
    {
      "cell_type": "markdown",
      "metadata": {},
      "source": [
        "Get the last two elements"
      ]
    },
    {
      "cell_type": "code",
      "metadata": {},
      "source": [
        "roster_list[-2:]"
      ],
      "execution_count": null,
      "outputs": []
    },
    {
      "cell_type": "markdown",
      "metadata": {},
      "source": [
        "# Dictionary\n",
        "\n",
        "Dictionaries in Python have `keys` and `values`:"
      ]
    },
    {
      "cell_type": "code",
      "metadata": {},
      "source": [
        "roster_dict = {'PF': 'kevin durant',\n",
        "               'PG': 'kyrie irving',\n",
        "               'SG': 'james harden'}\n",
        "               \n",
        "print(roster_dict)"
      ],
      "execution_count": null,
      "outputs": []
    },
    {
      "cell_type": "markdown",
      "metadata": {},
      "source": [
        "Access an element in the dictionary:"
      ]
    },
    {
      "cell_type": "code",
      "metadata": {},
      "source": [
        "roster_dict['PF']"
      ],
      "execution_count": null,
      "outputs": []
    },
    {
      "cell_type": "markdown",
      "metadata": {},
      "source": [
        "Adding a new element to the dictionary"
      ]
    },
    {
      "cell_type": "code",
      "metadata": {},
      "source": [
        "roster_dict['C'] = 'deandre jordan'\n",
        "\n",
        "roster_dict"
      ],
      "execution_count": null,
      "outputs": []
    },
    {
      "cell_type": "markdown",
      "metadata": {},
      "source": [
        "## Unpacking\n",
        "\n",
        "You can assign multiple variables at once:"
      ]
    },
    {
      "cell_type": "code",
      "metadata": {},
      "source": [
        "pg, sg = ['kyrie irving', 'james harden']"
      ],
      "execution_count": null,
      "outputs": []
    },
    {
      "cell_type": "markdown",
      "metadata": {},
      "source": [
        "The previous chunk is equivalent to do this:"
      ]
    },
    {
      "cell_type": "code",
      "metadata": {},
      "source": [
        "pg = 'kyrie irving'\n",
        "\n",
        "sg = 'james harden'"
      ],
      "execution_count": null,
      "outputs": []
    },
    {
      "cell_type": "markdown",
      "metadata": {},
      "source": [
        "# Loops\n",
        "\n",
        "Loops are a way \"to do something\" for every item in a collection\n",
        "\n",
        "Let's properly capitalize the player's names using the `title` function:"
      ]
    },
    {
      "cell_type": "code",
      "metadata": {},
      "source": [
        "# Create the list of players\n",
        "roster_list = ['kevind durant', 'kyrie irving', 'james harden']\n",
        "\n",
        "roster_list_upper = ['', '', '']   # List to store results\n",
        "i = 0       # Start position to iterate\n",
        "for player in roster_list:\n",
        "  roster_list_upper[i] = player.title()\n",
        "  i = i + 1\n",
        "  \n",
        "# See output\n",
        "print(roster_list_upper)"
      ],
      "execution_count": null,
      "outputs": []
    },
    {
      "cell_type": "markdown",
      "metadata": {},
      "source": [
        "Iterating through a dictionary."
      ]
    },
    {
      "cell_type": "code",
      "metadata": {},
      "source": [
        "for x in roster_dict:\n",
        "  print(f\"position: {x}\")"
      ],
      "execution_count": null,
      "outputs": []
    },
    {
      "cell_type": "markdown",
      "metadata": {},
      "source": [
        "And if we want the values too:"
      ]
    },
    {
      "cell_type": "code",
      "metadata": {},
      "source": [
        "for x in roster_dict:\n",
        "  print(f\"position: {x}\")\n",
        "  print(f\"player: {roster_dict[x]}\")\n",
        "  \n",
        "# Same Example but with capitalized names and last names\n",
        "for x in roster_dict:\n",
        "  print(f\"position: {x}\")\n",
        "  print(f\"player: {roster_dict[x].title()}\")"
      ],
      "execution_count": null,
      "outputs": []
    },
    {
      "cell_type": "markdown",
      "metadata": {},
      "source": [
        "We can use the function `.items()` to a dictionary to get access to the value:"
      ]
    },
    {
      "cell_type": "code",
      "metadata": {},
      "source": [
        "for x, y in roster_dict.items():\n",
        "  print(f\"position: {x}\")\n",
        "  print(f\"player: {y}\")"
      ],
      "execution_count": null,
      "outputs": []
    },
    {
      "cell_type": "markdown",
      "metadata": {},
      "source": [
        "# Comprehensions\n",
        "\n",
        "Comprehensions are a way to iterate through lists and dictionaries in a simpler way."
      ]
    },
    {
      "cell_type": "code",
      "metadata": {},
      "source": [
        "# See original list\n",
        "roster_list"
      ],
      "execution_count": null,
      "outputs": []
    },
    {
      "cell_type": "markdown",
      "metadata": {},
      "source": [
        "And then we changed to a capitalized version in each name by doing a for loop:"
      ]
    },
    {
      "cell_type": "code",
      "metadata": {},
      "source": [
        "roster_list_proper = [x.title() for x in roster_list]\n",
        "\n",
        "# See the output\n",
        "print(roster_list_proper)"
      ],
      "execution_count": null,
      "outputs": []
    },
    {
      "cell_type": "markdown",
      "metadata": {},
      "source": [
        "All list comprehension take the form `[a for b in c]`. In the above example:\n",
        "\n",
        "-   a is `x.title()`\n",
        "-   b is `x`\n",
        "-   c is `roster_list`\n",
        "\n",
        "A more complicated example"
      ]
    },
    {
      "cell_type": "code",
      "metadata": {},
      "source": [
        "# Obtain the last name of each player\n",
        "roster_last_names = [full_name.split(' ')[1]\n",
        "                      for full_name in roster_list]\n",
        "                      \n",
        "# See the output\n",
        "print(roster_last_names)"
      ],
      "execution_count": null,
      "outputs": []
    },
    {
      "cell_type": "markdown",
      "metadata": {},
      "source": [
        "Let's explore what *a* does in the previous example"
      ]
    },
    {
      "cell_type": "code",
      "metadata": {},
      "source": [
        "full_name = \"kevin durant\"    # Example\n",
        "\n",
        "full_name.split(\" \")          # Separates into 2 elements by blank space\n",
        "\n",
        "full_name.split(\" \")[1]       # Takes the second element (index = 1)"
      ],
      "execution_count": null,
      "outputs": []
    },
    {
      "cell_type": "markdown",
      "metadata": {},
      "source": [
        "We can use this approach to filter a collection of certain items only:"
      ]
    },
    {
      "cell_type": "code",
      "metadata": {},
      "source": [
        "roster_k_only = [x for x in roster_list if x.startswith(\"k\")]\n",
        "\n",
        "# See the output\n",
        "print(roster_k_only)"
      ],
      "execution_count": null,
      "outputs": []
    },
    {
      "cell_type": "markdown",
      "metadata": {},
      "source": [
        "Checking the filter"
      ]
    },
    {
      "cell_type": "code",
      "metadata": {},
      "source": [
        "'kevin durant'.startswith('k')\n",
        "\n",
        "'james harden'.startswith('k')\n",
        "\n",
        "'kyrie irvin'.startswith('k')"
      ],
      "execution_count": null,
      "outputs": []
    },
    {
      "cell_type": "markdown",
      "metadata": {},
      "source": [
        "We can extend this to map and filter in the same comprehension"
      ]
    },
    {
      "cell_type": "code",
      "metadata": {},
      "source": [
        "roster_k_only_title = [x.title() for x in roster_list if x.startswith('k')]\n",
        "\n",
        "# See the output\n",
        "print(roster_k_only_title)"
      ],
      "execution_count": null,
      "outputs": []
    },
    {
      "cell_type": "markdown",
      "metadata": {},
      "source": [
        "## Dictionary comprehensions"
      ]
    },
    {
      "cell_type": "code",
      "metadata": {},
      "source": [
        "salary_per_player = {'kevin durant': 39058950,\n",
        "                     'kyrie irving': 33460350,\n",
        "                     'james harden': 41254920}\n",
        "                     \n",
        "salary_m_per_upper_player = {\n",
        "  name.upper(): salary/1000000 for name, salary in salary_per_player.items()\n",
        "}\n",
        "\n",
        "print(salary_m_per_upper_player)"
      ],
      "execution_count": null,
      "outputs": []
    },
    {
      "cell_type": "markdown",
      "metadata": {},
      "source": [
        "We can go from a list to a dictionary and viceversa"
      ]
    },
    {
      "cell_type": "code",
      "metadata": {},
      "source": [
        "sum([1, 2, 3])"
      ],
      "execution_count": null,
      "outputs": []
    },
    {
      "cell_type": "markdown",
      "metadata": {},
      "source": [
        "If we want to get the total salary_per_player we can make a list of just the salaries using a list comprehension, then pass it to `sum` like:"
      ]
    },
    {
      "cell_type": "code",
      "metadata": {},
      "source": [
        "sum([salary for _, salary in salary_per_player.items()])"
      ],
      "execution_count": null,
      "outputs": []
    },
    {
      "cell_type": "markdown",
      "metadata": {},
      "source": [
        "Since we don't need the names (key) for summing the salaries, it's a convention to use `_` as a variable name, letting people reading our code know we're not using it.\n",
        "\n",
        "# Functions"
      ]
    },
    {
      "cell_type": "code",
      "metadata": {},
      "source": [
        "len([\"kevin durant\", \"kyrie irving\", \"james harden\"])"
      ],
      "execution_count": null,
      "outputs": []
    },
    {
      "cell_type": "markdown",
      "metadata": {},
      "source": [
        "We can define variables using functions:"
      ]
    },
    {
      "cell_type": "code",
      "metadata": {},
      "source": [
        "pts_per_3 = len([\"kevin durant\", \"kyrie irving\", \"james harden\"])\n",
        "\n",
        "print(pts_per_3)"
      ],
      "execution_count": null,
      "outputs": []
    },
    {
      "cell_type": "markdown",
      "metadata": {},
      "source": [
        "And then using it for calculations"
      ]
    },
    {
      "cell_type": "code",
      "metadata": {},
      "source": [
        "4 + pts_per_3"
      ],
      "execution_count": null,
      "outputs": []
    },
    {
      "cell_type": "markdown",
      "metadata": {},
      "source": [
        "## Defining your own functions"
      ]
    },
    {
      "cell_type": "code",
      "metadata": {},
      "source": [
        "def pts(fg2, fg3, ft):   # 2point, 3point, free throws\n",
        "  \"\"\"\n",
        "  you can use 3 \"\" to insert docstring, an explanation of \n",
        "  what the function does\n",
        "  \"\"\"\n",
        "  return fg2*2 + fg3*3 + ft*1"
      ],
      "execution_count": null,
      "outputs": []
    },
    {
      "cell_type": "markdown",
      "metadata": {},
      "source": [
        "Test the function"
      ]
    },
    {
      "cell_type": "code",
      "metadata": {},
      "source": [
        "# Total points\n",
        "pts(8, 4, 5)"
      ],
      "execution_count": null,
      "outputs": []
    },
    {
      "cell_type": "markdown",
      "metadata": {},
      "source": [
        "## Default values in your function\n",
        "\n",
        "The following will show an error\n",
        "\n",
        "```{{python}}\n",
        "pts(8, 4)\n",
        "```\n",
        "\n",
        "The problem is that the function expects 3 arguments and we only passed 2. We can solve this problem adding default values. Optional values must come after required arguments."
      ]
    },
    {
      "cell_type": "code",
      "metadata": {},
      "source": [
        "def pts(fg2, fg3, ft = 0):\n",
        "  \"\"\"\n",
        "  this function takes the number of 2 point fgs, 3 point fgs, and free throws and returns total points scored\n",
        "  \"\"\"\n",
        "  return fg2*2 + fg3*3 + ft*1"
      ],
      "execution_count": null,
      "outputs": []
    },
    {
      "cell_type": "markdown",
      "metadata": {},
      "source": [
        "Test the function:"
      ]
    },
    {
      "cell_type": "code",
      "metadata": {},
      "source": [
        "#| echo: fenced\n",
        "pts(8, 4)"
      ],
      "execution_count": null,
      "outputs": []
    },
    {
      "cell_type": "code",
      "metadata": {},
      "source": [
        "# Consult what arguments the function requires\n",
        "?pts"
      ],
      "execution_count": null,
      "outputs": []
    },
    {
      "cell_type": "markdown",
      "metadata": {},
      "source": [
        "## Functions that take other functions"
      ]
    },
    {
      "cell_type": "code",
      "metadata": {},
      "source": [
        "def do_to_list(working_list, working_fn, desc):\n",
        "  \"\"\"\n",
        "  this function takes a list, a function that works on a list, and a description\n",
        "  it applies the function to the list, then returns the result along with description as a string\n",
        "  \"\"\"\n",
        "  value = working_fn(working_list)\n",
        "  return f'{desc} {value}'"
      ],
      "execution_count": null,
      "outputs": []
    },
    {
      "cell_type": "markdown",
      "metadata": {},
      "source": [
        "Make a function to use this on"
      ]
    },
    {
      "cell_type": "code",
      "metadata": {},
      "source": [
        "def last_elem_in_list(working_list):\n",
        "  \"\"\"\n",
        "  returns the last element of a list\n",
        "  \"\"\"\n",
        "  return working_list[-1]"
      ],
      "execution_count": null,
      "outputs": []
    },
    {
      "cell_type": "markdown",
      "metadata": {},
      "source": [
        "Try it out:"
      ]
    },
    {
      "cell_type": "code",
      "metadata": {},
      "source": [
        "positions = [\"C\", \"PF\", \"SF\", \"SG\", \"PG\"]\n",
        "\n",
        "do_to_list(positions, last_elem_in_list, \"last element of a list:\")"
      ],
      "execution_count": null,
      "outputs": []
    },
    {
      "cell_type": "markdown",
      "metadata": {},
      "source": [
        "Now the function can be used on built in functions too"
      ]
    },
    {
      "cell_type": "code",
      "metadata": {},
      "source": [
        "do_to_list(positions, len, \"length of your list:\")"
      ],
      "execution_count": null,
      "outputs": []
    },
    {
      "cell_type": "markdown",
      "metadata": {},
      "source": [
        "\"Anonymous\" or \"lambda\" functions are functions created on the fly to pass to other functions"
      ]
    },
    {
      "cell_type": "code",
      "metadata": {},
      "source": [
        "do_to_list([2, 3, 7, 1.3, 5], lambda x: 3*x[0], \"first element of your list times 3 is:\" )"
      ],
      "execution_count": null,
      "outputs": []
    },
    {
      "cell_type": "markdown",
      "metadata": {},
      "source": [
        "# End of chapter exercises\n",
        "\n",
        "### 2.1 Which of the followings are valid Python variable names?\n",
        "\n",
        "-   `_throwaway_data`\n",
        "\n",
        "-   `n_shots`\n",
        "\n",
        "-   `3_pt_percentage`\n",
        "\n",
        "-   `numOfBoards`\n",
        "\n",
        "-   `flagrant2`\n",
        "\n",
        "-   `coach name`\n",
        "\n",
        "-   `@home_or_away`\n",
        "\n",
        "-   `'ft_attempts'`\n",
        "\n",
        "```{python}}\n",
        "#| echo: fenced\n",
        "_throwaway_data = 2 # Valid\n",
        "\n",
        "n_shots = 15 # Valid\n",
        "\n",
        "3_pt_percentage = 0.36 # Invalid\n",
        "\n",
        "numOfBoards = 8 # Valid\n",
        "\n",
        "flagrant2 = 3 # Valid\n",
        "\n",
        "coach name = \"Mike\"  # Invalid\n",
        "\n",
        "@home_or_away = \"home\" # Invalid\n",
        "\n",
        "'ft_attempts' = 6 # Invalid\n",
        "\n",
        "```\n",
        "\n",
        "### 2.2 What is the value of `total_points` at the end of the following code?"
      ]
    },
    {
      "cell_type": "code",
      "metadata": {},
      "source": [
        "total_points = 100\n",
        "total_points = total_points + 28\n",
        "total_points = total_points + 5\n",
        "\n",
        "total_points == 133"
      ],
      "execution_count": null,
      "outputs": []
    },
    {
      "cell_type": "markdown",
      "metadata": {},
      "source": [
        "The total value of `total_points` is `{python} total_points`\n",
        "\n",
        "### 2.3 Write a function named `commentary` that takes the name of a player and a play and returns a string of the form 'Lebron James with the dunk!'."
      ]
    },
    {
      "cell_type": "code",
      "metadata": {},
      "source": [
        "#| label: \"Function commentary\"\n",
        "\n",
        "def commentary(player, play):          # Name of the function and arguments\n",
        "  \"\"\"\n",
        "  Takes the name of the player and a play, and returns a sentence using both\n",
        "  \"\"\"\n",
        "  player = player.title()              # Capitalize name and last name\n",
        "  play = play.lower()                  # Lower case the play\n",
        "  return f'{player} with the {play}!'  # Return of the function\n",
        "\n",
        "# Test the function\n",
        "commentary(\"facu campazzo\", \"STEAL\")\n",
        "commentary(\"puchero\", \"dunk\")"
      ],
      "execution_count": null,
      "outputs": []
    },
    {
      "cell_type": "markdown",
      "metadata": {},
      "source": [
        "### 2.4 Without looking up, what do you think the string method `islower` does? What type of value does it return? Write some code to test your guess.\n",
        "\n",
        "The function returns `True` when letters are lower case"
      ]
    },
    {
      "cell_type": "code",
      "metadata": {},
      "source": [
        "#| label: islower\n",
        "\n",
        "player = \"Puchero\"\n",
        "\n",
        "player.islower()\n",
        "\n",
        "player = \"nocioni\"\n",
        "\n",
        "player.islower()"
      ],
      "execution_count": null,
      "outputs": []
    },
    {
      "cell_type": "markdown",
      "metadata": {},
      "source": [
        "### 2.5 Write a function `is_fox` that takes in a player names and returns a boolean indicating the player's name is \"De'Aaron Fox\" regardless of case or whether the user included the `'`."
      ]
    },
    {
      "cell_type": "code",
      "metadata": {},
      "source": [
        "#| label: is_fox\n",
        "\n",
        "def is_fox(player):\n",
        "    player = player.lower()\n",
        "  \n",
        "    if player == \"d'aaron fox\" or player == \"daaron fox\":\n",
        "        return \"OMG! It's D'Aaron Fox!\"\n",
        "  \n",
        "    else:\n",
        "        return \"Who is this guy?\"\n",
        "\n",
        "  \n",
        "# Test the function\n",
        "is_fox(\"Glass Ankles\")\n",
        "\n",
        "# Test the function\n",
        "is_fox(\"D'Aaron Fox\")"
      ],
      "execution_count": null,
      "outputs": []
    },
    {
      "cell_type": "markdown",
      "metadata": {},
      "source": [
        "### 2.6 Write a function `is_good_score` that takes in a number (e.g. 120 or 90) and returns a string `'120 is a good score` if the number >= 100 or `90's not that good` otherwise."
      ]
    },
    {
      "cell_type": "code",
      "metadata": {},
      "source": [
        "#| label: is_good_score_function\n",
        "\n",
        "# Define the function\n",
        "def is_good_score(x1):\n",
        "  if x1 >= 100:\n",
        "    return f'{x1} is a good score'\n",
        "  else:\n",
        "    return f\"{x1}'s not that good\"\n",
        "  \n",
        "# Test the function if true\n",
        "is_good_score(101)\n",
        "\n",
        "# Test the function if false\n",
        "is_good_score(99)"
      ],
      "execution_count": null,
      "outputs": []
    },
    {
      "cell_type": "markdown",
      "metadata": {},
      "source": [
        "### 2.7 Say we have a list\n",
        "`roster = ['kevin durant', 'kyrie irving', 'james harden']`\n",
        "\n",
        "List at least 3 ways you can to print the list without `'james harden'`. Use at least one list comprehension."
      ]
    }
  ],
  "metadata": {
    "kernelspec": {
      "name": "python3",
      "language": "python",
      "display_name": "Python 3 (ipykernel)"
    }
  },
  "nbformat": 4,
  "nbformat_minor": 4
}